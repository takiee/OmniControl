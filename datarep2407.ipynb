{
 "cells": [
  {
   "cell_type": "markdown",
   "metadata": {},
   "source": [
    "### 测试求手物交互的中间表示，以及反向通过中间表示，优化获得最终的手物参数"
   ]
  },
  {
   "cell_type": "code",
   "execution_count": 2,
   "metadata": {},
   "outputs": [
    {
     "name": "stdout",
     "output_type": "stream",
     "text": [
      "torch.Size([139, 3, 3])\n",
      "torch.Size([139, 21, 3])\n",
      "(139, 21)\n",
      "torch.Size([139, 21, 500])\n",
      "torch.Size([139, 21, 3])\n",
      "torch.Size([138, 21, 3]) torch.Size([137, 21, 3])\n"
     ]
    }
   ],
   "source": [
    "import torch\n",
    "from torch.utils import data\n",
    "import numpy as np\n",
    "import os\n",
    "from os.path import join \n",
    "import random\n",
    "from tqdm import *\n",
    "import pickle\n",
    "import trimesh\n",
    "from tqdm import *\n",
    "from manotorch.manolayer import ManoLayer\n",
    "from pytorch3d.transforms import axis_angle_to_matrix\n",
    "from random import choice\n",
    "from sklearn.neighbors import KDTree\n",
    "from pysdf import SDF\n",
    "manolayer = ManoLayer(\n",
    "    mano_assets_root='/root/code/CAMS/data/mano_assets/mano',\n",
    "    side='right'\n",
    ")\n",
    "\n",
    "def convert_T_to_obj_frame(points, obj_pose):\n",
    "    # points(frames,21,3)\n",
    "    # obj_pose (frames,3,4)\n",
    "\n",
    "    obj_T = obj_pose[:,:3,3].unsqueeze(-2) # B, 1, 3\n",
    "    points = points - obj_T\n",
    "    points = torch.einsum('...ij->...ji', [points])\n",
    "    obj_R = obj_pose[:,:3,:3] # B, 3, 3\n",
    "    obj_R = torch.einsum('...ij->...ji', [obj_R])\n",
    "    new_points = torch.einsum('bpn,bnk->bpk',obj_R,points)\n",
    "    new_points = torch.einsum('...ij->...ji', [new_points])\n",
    "    return new_points\n",
    "\n",
    "def convert_R_to_obj_frame(hand_rot, obj_pose):\n",
    "    # hand_rot: B，3，3\n",
    "    obj_R = obj_pose[:,:3,:3] # B, 3, 3\n",
    "    obj_R = torch.einsum('...ij->...ji', [obj_R])\n",
    "    hand_rot_in_obj = torch.einsum('bji,bjk->bik', obj_R, hand_rot)\n",
    "\n",
    "    return hand_rot_in_obj\n",
    "\n",
    "# def compute_angular_velocity_for(rotation_matrices):\n",
    "#     # rotation_matrices: (T, 3, 3), where T is the number of time steps\n",
    "#     T = rotation_matrices.shape[0]\n",
    "    \n",
    "#     # Initialize angular velocity array\n",
    "#     angular_velocity = torch.zeros((T - 1, 3, 3))\n",
    "    \n",
    "#     for i in range(T - 1):\n",
    "#         R_next = rotation_matrices[i + 1]\n",
    "#         R_current = rotation_matrices[i]\n",
    "#         R_diff = R_next @ R_current.transpose(-1, -2) - torch.eye(3)\n",
    "#         angular_velocity[i] = R_diff \n",
    "        \n",
    "#     return angular_velocity\n",
    "\n",
    "def compute_angular_velocity_nofor(rotation_matrices):\n",
    "    # rotation_matrices: (T, 3, 3), where T is the number of time steps\n",
    "    R_next = rotation_matrices[1:]  # (T-1, 3, 3)\n",
    "    R_current = rotation_matrices[:-1]  # (T-1, 3, 3)\n",
    "    \n",
    "    # Compute difference matrix R_next * R_current^T - I\n",
    "    R_diff = R_next @ R_current.transpose(-1, -2) - torch.eye(3).to(rotation_matrices.device)\n",
    "    \n",
    "    # Extract the angular velocity matrix (anti-symmetric part)\n",
    "    angular_velocity = R_diff\n",
    "    \n",
    "    return angular_velocity\n",
    "\n",
    "def compute_angular_acceleration_nofor(angular_velocity):\n",
    "    # angular_velocity: (T-1, 3, 3), where T-1 is the number of time steps\n",
    "    omega_next = angular_velocity[1:]  # (T-2, 3, 3)\n",
    "    omega_current = angular_velocity[:-1]  # (T-2, 3, 3)\n",
    "    \n",
    "    # Compute the difference in angular velocity\n",
    "    omega_diff = omega_next - omega_current\n",
    "    \n",
    "    # Compute angular acceleration\n",
    "    angular_acceleration = omega_diff\n",
    "    \n",
    "    return angular_acceleration\n",
    "\n",
    "\n",
    "datapath='/root/code/seqs/gazehoi_list_train_new.txt'\n",
    "root = '/root/code/seqs/1205_data/'\n",
    "obj_path = '/root/code/seqs/object/'\n",
    "with open(datapath,'r') as f:\n",
    "    info_list = f.readlines()\n",
    "seqs = []\n",
    "for info in info_list:\n",
    "    seq = info.strip()\n",
    "    seqs.append(seq)\n",
    "datalist = []\n",
    "# print(seqs)\n",
    "for seq in seqs:\n",
    "    seq_path = join(root,seq)\n",
    "    meta_path = join(seq_path,'meta.pkl')\n",
    "    mano_right_path = join(seq_path, 'mano/poses_right.npy')\n",
    "    with open(meta_path,'rb')as f:\n",
    "        meta = pickle.load(f)\n",
    "    \n",
    "    active_obj = meta['active_obj']\n",
    "    obj_mesh_path = join(obj_path,active_obj,'simplified_scan_processed.obj')\n",
    "    obj_mesh = trimesh.load(obj_mesh_path)\n",
    "    obj_sdf = SDF(obj_mesh.vertices,obj_mesh.faces)\n",
    "    obj_verts = torch.tensor(np.load(join(obj_path,active_obj,'resampled_500_trans.npy'))).float()\n",
    "    obj_pose = torch.tensor(np.load(join(seq_path,active_obj+'_pose_trans.npy'))).float()\n",
    "\n",
    "    hand_params = torch.tensor(np.load(mano_right_path)).float()\n",
    "    hand_trans = hand_params[:,:3]\n",
    "    hand_rot = hand_params[:,3:6]\n",
    "    hand_rot_matrix = axis_angle_to_matrix(hand_rot)\n",
    "    print(hand_rot_matrix.shape)\n",
    "    hand_theta = hand_params[:,3:51]\n",
    "    mano_beta = hand_params[:,51:]\n",
    "    mano_output = manolayer(hand_theta, mano_beta)\n",
    "    hand_joints = mano_output.joints - mano_output.joints[:, 0].unsqueeze(1) + hand_trans.unsqueeze(1) # B, 21, 3\n",
    "    # 物体坐标系下的手部关键点\n",
    "    hand_joints_in_obj = convert_T_to_obj_frame(hand_joints, # B, 21, 3\n",
    "                                        obj_pose)           # B, 3, 4\n",
    "    print(hand_joints_in_obj.shape)\n",
    "    # 手物是否接触 0-1值\n",
    "    hand_contact = obj_sdf(hand_joints_in_obj.reshape(-1,3)).reshape(-1,21) < 0.02 # TODO: 阈值调整\n",
    "    print(hand_contact.shape)\n",
    "\n",
    "    # 手物之间的offset\n",
    "    # hand_joints_in_obj.unsqueeze(2) - obj_verts.unsqueeze(1)\n",
    "    hand_obj_dis = torch.norm(hand_joints_in_obj.unsqueeze(2) - obj_verts.unsqueeze(0).unsqueeze(0).repeat(hand_params.shape[0],1,1,1),dim=-1) # B,21,1,3 - B,1,500,3 = B,21,500\n",
    "    print(hand_obj_dis.shape)\n",
    "    obj_ids = torch.argmin(hand_obj_dis,dim=-1) # B,21\n",
    "\n",
    "    closest_obj_verts = obj_verts[obj_ids] # B,21,3\n",
    "    print(closest_obj_verts.shape)\n",
    "    hand_obj_offset = hand_joints_in_obj - closest_obj_verts\n",
    "\n",
    "    # 手部21个节点的线速度 线加速度\n",
    "    hand_lin_vel = hand_joints_in_obj[1:] - hand_joints_in_obj[:-1] # B-1,21,3\n",
    "    hand_lin_acc = hand_lin_vel[1:] - hand_lin_vel[:-1] # B-2,21,3\n",
    "    print(hand_lin_vel.shape, hand_lin_acc.shape)\n",
    "\n",
    "    # 手部根节点的角速度 角加速度\n",
    "    #  需要将手部的旋转也转到物体坐标系下\n",
    "    hand_rot_in_obj = convert_R_to_obj_frame(hand_rot_matrix, obj_pose)\n",
    "    # print(f'hand_pose dtype: {hand_rot_matrix.dtype}')\n",
    "    # print(f'obj_pose dtype: {obj_pose.dtype}')\n",
    "    # 计算角速度和角加速度 \n",
    "    # 验证了nofor的结果是正确的，最大误差5.9605e-08\n",
    "    # ang_vel_for = compute_angular_velocity_for(hand_rot_in_obj)\n",
    "    # ang_vel_nofor = compute_angular_velocity_nofor(hand_rot_in_obj)\n",
    "    # print(ang_vel_for.shape,ang_vel_nofor.shape)\n",
    "    # print(torch.max(ang_vel_for - ang_vel_nofor))\n",
    "    hand_ang_vel = compute_angular_velocity_nofor(hand_rot_in_obj)\n",
    "    hand_ang_acc = compute_angular_acceleration_nofor(hand_ang_vel)\n",
    "\n",
    "\n",
    "\n",
    "\n",
    "\n",
    "    break"
   ]
  },
  {
   "cell_type": "markdown",
   "metadata": {},
   "source": [
    "### 统计motion长度\n"
   ]
  },
  {
   "cell_type": "code",
   "execution_count": 3,
   "metadata": {},
   "outputs": [],
   "source": [
    "seq_lens = []\n",
    "for seq in seqs:\n",
    "    seq_path = join(root,seq)\n",
    "    meta_path = join(seq_path,'meta.pkl')\n",
    "    mano_right_path = join(seq_path, 'mano/poses_right.npy')\n",
    "    hand_params = np.load(mano_right_path)\n",
    "    seq_len = hand_params.shape[0]\n",
    "    seq_lens.append(seq_len)"
   ]
  },
  {
   "cell_type": "code",
   "execution_count": 4,
   "metadata": {},
   "outputs": [
    {
     "data": {
      "text/plain": [
       "(84, 345)"
      ]
     },
     "execution_count": 4,
     "metadata": {},
     "output_type": "execute_result"
    }
   ],
   "source": [
    "min(seq_lens), max(seq_lens)"
   ]
  },
  {
   "cell_type": "code",
   "execution_count": 10,
   "metadata": {},
   "outputs": [
    {
     "name": "stdout",
     "output_type": "stream",
     "text": [
      "Bin Edges: [ 84 150 160 180 345]\n",
      "Histogram: [120 316  93 150]\n",
      "Frequency: [0.17673049 0.46539028 0.13696613 0.22091311]\n"
     ]
    }
   ],
   "source": [
    "import numpy as np\n",
    "import matplotlib.pyplot as plt\n",
    "\n",
    "# 示例列表\n",
    "numbers = seq_lens\n",
    "\n",
    "# 计算直方图\n",
    "# bins 参数定义了区间数或区间边界\n",
    "hist, bin_edges = np.histogram(numbers, bins=[84,150,160,180,345])\n",
    "\n",
    "# 计算每个区间的频率\n",
    "frequency = hist / len(numbers)\n",
    "\n",
    "# 打印直方图和频率\n",
    "print(\"Bin Edges:\", bin_edges)\n",
    "print(\"Histogram:\", hist)\n",
    "print(\"Frequency:\", frequency)\n",
    "\n"
   ]
  },
  {
   "cell_type": "markdown",
   "metadata": {},
   "source": [
    " 时长统一为150帧、5s。原始帧率为30fps，降低fps增加数据量--6fps 翻成5倍的数据量 和stage0_1obj对齐。"
   ]
  },
  {
   "cell_type": "code",
   "execution_count": null,
   "metadata": {},
   "outputs": [],
   "source": []
  },
  {
   "cell_type": "markdown",
   "metadata": {},
   "source": []
  },
  {
   "cell_type": "markdown",
   "metadata": {},
   "source": []
  }
 ],
 "metadata": {
  "kernelspec": {
   "display_name": "mdm",
   "language": "python",
   "name": "python3"
  },
  "language_info": {
   "codemirror_mode": {
    "name": "ipython",
    "version": 3
   },
   "file_extension": ".py",
   "mimetype": "text/x-python",
   "name": "python",
   "nbconvert_exporter": "python",
   "pygments_lexer": "ipython3",
   "version": "3.7.13"
  }
 },
 "nbformat": 4,
 "nbformat_minor": 2
}
