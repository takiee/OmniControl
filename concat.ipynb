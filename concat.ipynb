{
 "cells": [
  {
   "cell_type": "markdown",
   "metadata": {},
   "source": [
    "# 把stage0 -- contactgen -- stage1 -- stage2的结果串联起来，并计算指标"
   ]
  },
  {
   "cell_type": "markdown",
   "metadata": {},
   "source": [
    "## stage0"
   ]
  },
  {
   "cell_type": "code",
   "execution_count": 1,
   "metadata": {},
   "outputs": [
    {
     "name": "stderr",
     "output_type": "stream",
     "text": [
      "/root/anaconda3/envs/mdm/lib/python3.7/site-packages/tqdm/auto.py:22: TqdmWarning: IProgress not found. Please update jupyter and ipywidgets. See https://ipywidgets.readthedocs.io/en/stable/user_install.html\n",
      "  from .autonotebook import tqdm as notebook_tqdm\n"
     ]
    }
   ],
   "source": [
    "import numpy as np\n",
    "import torch\n",
    "import pickle\n",
    "import trimesh\n",
    "from os.path import join\n",
    "from tqdm import *"
   ]
  },
  {
   "cell_type": "code",
   "execution_count": 2,
   "metadata": {},
   "outputs": [],
   "source": [
    "path = 'final_results/stage0_results.npy'\n",
    "stage0_data = np.load(path,allow_pickle=True).item()"
   ]
  },
  {
   "cell_type": "code",
   "execution_count": 3,
   "metadata": {},
   "outputs": [
    {
     "data": {
      "text/plain": [
       "dict_keys(['motion', 'lengths', 'seqs', 'num_samples', 'num_repetitions', 'all_gt'])"
      ]
     },
     "execution_count": 3,
     "metadata": {},
     "output_type": "execute_result"
    }
   ],
   "source": [
    "stage0_data.keys()"
   ]
  },
  {
   "cell_type": "code",
   "execution_count": 4,
   "metadata": {},
   "outputs": [
    {
     "name": "stdout",
     "output_type": "stream",
     "text": [
      "81\n",
      "81\n"
     ]
    }
   ],
   "source": [
    "seqs = stage0_data['seqs']\n",
    "print(len(seqs))\n",
    "set_seqs = set(seqs)\n",
    "print(len(set_seqs))"
   ]
  },
  {
   "cell_type": "code",
   "execution_count": 5,
   "metadata": {},
   "outputs": [
    {
     "name": "stdout",
     "output_type": "stream",
     "text": [
      "(81, 69, 3, 4)\n"
     ]
    }
   ],
   "source": [
    "motion = stage0_data['motion']\n",
    "print(motion.shape)"
   ]
  },
  {
   "cell_type": "markdown",
   "metadata": {},
   "source": [
    "### 插值 恢复30fps帧率  6--30"
   ]
  },
  {
   "cell_type": "code",
   "execution_count": 6,
   "metadata": {},
   "outputs": [],
   "source": [
    "import torch\n",
    "import numpy as np\n",
    "from pytorch3d.transforms import rotation_conversions as rc\n",
    "\n",
    "def slerp(q0, q1, t):\n",
    "    dot = torch.dot(q0, q1)\n",
    "    if dot < 0.0:\n",
    "        q1 = -q1\n",
    "        dot = -dot\n",
    "    DOT_THRESHOLD = 0.9995\n",
    "    if dot > DOT_THRESHOLD:\n",
    "        result = q0 + t * (q1 - q0)\n",
    "        return result / result.norm()\n",
    "    theta_0 = dot.acos()\n",
    "    sin_theta_0 = theta_0.sin()\n",
    "    theta = theta_0 * t\n",
    "    sin_theta = theta.sin()\n",
    "    s0 = ((1.0 - t) * theta).cos()\n",
    "    s1 = sin_theta / sin_theta_0\n",
    "    return (s0 * q0) + (s1 * q1)\n",
    "\n",
    "def interpolate_rotations_and_translations(rot_matrices, translations, timestamps_original, timestamps_target):\n",
    "    # 将旋转矩阵转换为四元数\n",
    "    quaternions = rc.matrix_to_quaternion(rot_matrices)\n",
    "    \n",
    "    # 插值结果容器\n",
    "    quaternions_interpolated = []\n",
    "    translations_interpolated = []\n",
    "\n",
    "    for i in range(len(timestamps_target)):\n",
    "        # 计算当前目标时间戳在原始时间戳的位置\n",
    "        t_norm = timestamps_target[i] * (len(timestamps_original) - 1)\n",
    "        idx = int(t_norm)\n",
    "        t = t_norm - idx\n",
    "\n",
    "        if idx < len(timestamps_original) - 1:\n",
    "            # 对四元数进行SLERP插值\n",
    "            q_interp = slerp(quaternions[idx], quaternions[idx + 1], t)\n",
    "            quaternions_interpolated.append(q_interp)\n",
    "\n",
    "            # 对平移向量进行线性插值\n",
    "            trans_interp = (1 - t) * translations[idx] + t * translations[idx + 1]\n",
    "            translations_interpolated.append(trans_interp)\n",
    "        else:\n",
    "            # 直接使用最后一个四元数和平移向量\n",
    "            quaternions_interpolated.append(quaternions[-1])\n",
    "            translations_interpolated.append(translations[-1])\n",
    "\n",
    "    # 将插值后的四元数转换回旋转矩阵\n",
    "    quaternions_interpolated = torch.stack(quaternions_interpolated)\n",
    "    rot_matrices_interpolated = rc.quaternion_to_matrix(quaternions_interpolated)\n",
    "    \n",
    "    # 将插值后的平移向量转换为合适的形式\n",
    "    translations_interpolated = torch.stack(translations_interpolated)\n",
    "\n",
    "    return rot_matrices_interpolated, translations_interpolated\n",
    "\n",
    "# 示例使用\n",
    "# 假设的旋转矩阵和平移向量\n",
    "rot_matrices = torch.rand((69, 3, 3))  # [N, 3, 3]\n",
    "translations = torch.rand((69, 3))     # [N, 3]\n",
    "\n",
    "# 定义时间戳\n",
    "timestamps_original = np.linspace(0, 1, 69)\n",
    "timestamps_target = np.linspace(0, 1, 345)\n",
    "\n",
    "# 执行插值\n",
    "rot_matrices_interpolated, translations_interpolated = interpolate_rotations_and_translations(\n",
    "    rot_matrices, translations, timestamps_original, timestamps_target\n",
    ")\n",
    "\n",
    "# 此时，`rot_matrices_interpolated` 和 `translations_interpolated` 包含了插值后的旋转矩阵和平移向量\n"
   ]
  },
  {
   "cell_type": "code",
   "execution_count": 7,
   "metadata": {},
   "outputs": [
    {
     "data": {
      "text/plain": [
       "torch.Size([345, 3, 3])"
      ]
     },
     "execution_count": 7,
     "metadata": {},
     "output_type": "execute_result"
    }
   ],
   "source": [
    "rot_matrices_interpolated.shape"
   ]
  }
 ],
 "metadata": {
  "kernelspec": {
   "display_name": "mdm",
   "language": "python",
   "name": "python3"
  },
  "language_info": {
   "codemirror_mode": {
    "name": "ipython",
    "version": 3
   },
   "file_extension": ".py",
   "mimetype": "text/x-python",
   "name": "python",
   "nbconvert_exporter": "python",
   "pygments_lexer": "ipython3",
   "version": "3.7.13"
  }
 },
 "nbformat": 4,
 "nbformat_minor": 2
}
